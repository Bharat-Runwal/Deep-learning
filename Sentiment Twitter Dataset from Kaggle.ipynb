{
  "nbformat": 4,
  "nbformat_minor": 0,
  "metadata": {
    "accelerator": "GPU",
    "colab": {
      "name": "Sentiment TWITTER NLP Course - Week 3 Exercise Question.ipynb",
      "provenance": [],
      "collapsed_sections": [],
      "include_colab_link": true
    },
    "kernelspec": {
      "display_name": "Python 3",
      "name": "python3"
    }
  },
  "cells": [
    {
      "cell_type": "markdown",
      "metadata": {
        "id": "view-in-github",
        "colab_type": "text"
      },
      "source": [
        "<a href=\"https://colab.research.google.com/github/Bharat-Runwal/Deep-learning/blob/master/Sentiment_TWITTER_NLP_Course_Week_3_Exercise_Question.ipynb\" target=\"_parent\"><img src=\"https://colab.research.google.com/assets/colab-badge.svg\" alt=\"Open In Colab\"/></a>"
      ]
    },
    {
      "cell_type": "code",
      "metadata": {
        "id": "zX4Kg8DUTKWO",
        "colab_type": "code",
        "colab": {}
      },
      "source": [
        "#@title Licensed under the Apache License, Version 2.0 (the \"License\");\n",
        "# you may not use this file except in compliance with the License.\n",
        "# You may obtain a copy of the License at\n",
        "#\n",
        "# https://www.apache.org/licenses/LICENSE-2.0\n",
        "#\n",
        "# Unless required by applicable law or agreed to in writing, software\n",
        "# distributed under the License is distributed on an \"AS IS\" BASIS,\n",
        "# WITHOUT WARRANTIES OR CONDITIONS OF ANY KIND, either express or implied.\n",
        "# See the License for the specific language governing permissions and\n",
        "# limitations under the License."
      ],
      "execution_count": 0,
      "outputs": []
    },
    {
      "cell_type": "code",
      "metadata": {
        "colab_type": "code",
        "id": "hmA6EzkQJ5jt",
        "colab": {}
      },
      "source": [
        "import json\n",
        "import tensorflow as tf\n",
        "import csv\n",
        "import random\n",
        "import numpy as np\n",
        "\n",
        "from tensorflow.keras.preprocessing.text import Tokenizer\n",
        "from tensorflow.keras.preprocessing.sequence import pad_sequences\n",
        "from tensorflow.keras.utils import to_categorical\n",
        "from tensorflow.keras import regularizers\n",
        "\n",
        "\n",
        "embedding_dim = 100\n",
        "max_length = 16\n",
        "trunc_type='post'\n",
        "padding_type='post'\n",
        "oov_tok = \"<OOV>\"\n",
        "training_size=160000#Your dataset size here. Experiment using smaller values (i.e. 16000), but don't forget to train on at least 160000 to see the best effects\n",
        "test_portion=.1\n",
        "\n",
        "corpus = []\n"
      ],
      "execution_count": 0,
      "outputs": []
    },
    {
      "cell_type": "code",
      "metadata": {
        "colab_type": "code",
        "id": "bM0l_dORKqE0",
        "outputId": "16fa7bb5-f618-4d6e-aa79-71815ffa0d7d",
        "colab": {
          "base_uri": "https://localhost:8080/",
          "height": 220
        }
      },
      "source": [
        "# Note that I cleaned the Stanford dataset to remove LATIN1 encoding to make it easier for Python CSV reader\n",
        "# You can do that yourself with:\n",
        "# iconv -f LATIN1 -t UTF8 training.1600000.processed.noemoticon.csv -o training_cleaned.csv\n",
        "# I then hosted it on my site to make it easier to use in this notebook\n",
        "\n",
        "!wget --no-check-certificate \\\n",
        "    https://storage.googleapis.com/laurencemoroney-blog.appspot.com/training_cleaned.csv \\\n",
        "    -O /tmp/training_cleaned.csv\n",
        "\n",
        "num_sentences = 0\n",
        "\n",
        "with open(\"/tmp/training_cleaned.csv\") as csvfile:\n",
        "    reader = csv.reader(csvfile, delimiter=',')\n",
        "    for row in reader:\n",
        "      # Your Code here. Create list items where the first item is the text, found in row[5], and the second is the label. Note that the label is a '0' or a '4' in the text. When it's the former, make\n",
        "      # your label to be 0, otherwise 1. Keep a count of the number of sentences in num_sentences\n",
        "        list_item=[]\n",
        "        list_item.append(row[5])\n",
        "        index=row[0]\n",
        "        if index=='0':\n",
        "          list_item.append(0)\n",
        "        else:\n",
        "          list_item.append(1)\n",
        "        num_sentences = num_sentences + 1\n",
        "        corpus.append(list_item)\n"
      ],
      "execution_count": 0,
      "outputs": [
        {
          "output_type": "stream",
          "text": [
            "--2020-06-09 11:09:10--  https://storage.googleapis.com/laurencemoroney-blog.appspot.com/training_cleaned.csv\n",
            "Resolving storage.googleapis.com (storage.googleapis.com)... 173.194.202.128, 2607:f8b0:400e:c08::80\n",
            "Connecting to storage.googleapis.com (storage.googleapis.com)|173.194.202.128|:443... connected.\n",
            "HTTP request sent, awaiting response... 200 OK\n",
            "Length: 238942690 (228M) [application/octet-stream]\n",
            "Saving to: ‘/tmp/training_cleaned.csv’\n",
            "\n",
            "/tmp/training_clean 100%[===================>] 227.87M   152MB/s    in 1.5s    \n",
            "\n",
            "2020-06-09 11:09:12 (152 MB/s) - ‘/tmp/training_cleaned.csv’ saved [238942690/238942690]\n",
            "\n"
          ],
          "name": "stdout"
        }
      ]
    },
    {
      "cell_type": "code",
      "metadata": {
        "colab_type": "code",
        "id": "3kxblBUjEUX-",
        "outputId": "fd371425-d2a5-42d3-90eb-815757a29aad",
        "colab": {
          "base_uri": "https://localhost:8080/",
          "height": 72
        }
      },
      "source": [
        "print(num_sentences)\n",
        "print(len(corpus))\n",
        "print(corpus[1])\n",
        "\n",
        "# Expected Output:\n",
        "# 1600000\n",
        "# 1600000\n",
        "# [\"is upset that he can't update his Facebook by texting it... and might cry as a result  School today also. Blah!\", 0]"
      ],
      "execution_count": 0,
      "outputs": [
        {
          "output_type": "stream",
          "text": [
            "1600000\n",
            "1600000\n",
            "[\"is upset that he can't update his Facebook by texting it... and might cry as a result  School today also. Blah!\", 0]\n"
          ],
          "name": "stdout"
        }
      ]
    },
    {
      "cell_type": "code",
      "metadata": {
        "colab_type": "code",
        "id": "ohOGz24lsNAD",
        "colab": {}
      },
      "source": [
        "sentences=[]\n",
        "labels=[]\n",
        "random.shuffle(corpus)\n",
        "for x in range(training_size):\n",
        "    sentences.append(corpus[x][0])\n",
        "    labels.append(corpus[x][1])\n",
        "\n",
        "\n",
        "tokenizer = Tokenizer()\n",
        "tokenizer.fit_on_texts(sentences)\n",
        "\n",
        "word_index = tokenizer.word_index\n",
        "vocab_size=len(word_index)\n",
        "\n",
        "sequences = tokenizer.texts_to_sequences(sentences)\n",
        "padded = pad_sequences(sequences,maxlen=max_length,padding=padding_type,truncating=trunc_type)\n",
        "\n",
        "split = int(test_portion * training_size)\n",
        "\n",
        "test_sequences = padded[0:split]\n",
        "training_sequences = padded[split:training_size]\n",
        "test_labels = labels[0:split]\n",
        "training_labels = labels[split:training_size]"
      ],
      "execution_count": 0,
      "outputs": []
    },
    {
      "cell_type": "code",
      "metadata": {
        "colab_type": "code",
        "id": "gIrtRem1En3N",
        "outputId": "3609c3fb-cf06-4e2f-aca3-a6814170b0d4",
        "colab": {
          "base_uri": "https://localhost:8080/",
          "height": 54
        }
      },
      "source": [
        "print(vocab_size)\n",
        "print(word_index['i'])\n",
        "# Expected Output\n",
        "# 138858\n",
        "# 1"
      ],
      "execution_count": 0,
      "outputs": [
        {
          "output_type": "stream",
          "text": [
            "138767\n",
            "1\n"
          ],
          "name": "stdout"
        }
      ]
    },
    {
      "cell_type": "code",
      "metadata": {
        "colab_type": "code",
        "id": "C1zdgJkusRh0",
        "outputId": "38765ed9-3f48-430d-ee90-3b46cfe2f111",
        "colab": {
          "base_uri": "https://localhost:8080/",
          "height": 220
        }
      },
      "source": [
        "# Note this is the 100 dimension version of GloVe from Stanford\n",
        "# I unzipped and hosted it on my site to make this notebook easier\n",
        "!wget --no-check-certificate \\\n",
        "    https://storage.googleapis.com/laurencemoroney-blog.appspot.com/glove.6B.100d.txt \\\n",
        "    -O /tmp/glove.6B.100d.txt\n",
        "embeddings_index = {};\n",
        "with open('/tmp/glove.6B.100d.txt') as f:\n",
        "    for line in f:\n",
        "        values = line.split();\n",
        "        word = values[0];\n",
        "        coefs = np.asarray(values[1:], dtype='float32');\n",
        "        embeddings_index[word] = coefs;\n",
        "\n",
        "embeddings_matrix = np.zeros((vocab_size+1, embedding_dim));\n",
        "for word, i in word_index.items():\n",
        "    embedding_vector = embeddings_index.get(word);\n",
        "    if embedding_vector is not None:\n",
        "        embeddings_matrix[i] = embedding_vector;"
      ],
      "execution_count": 0,
      "outputs": [
        {
          "output_type": "stream",
          "text": [
            "--2020-06-09 11:09:27--  https://storage.googleapis.com/laurencemoroney-blog.appspot.com/glove.6B.100d.txt\n",
            "Resolving storage.googleapis.com (storage.googleapis.com)... 74.125.142.128, 2607:f8b0:400e:c01::80\n",
            "Connecting to storage.googleapis.com (storage.googleapis.com)|74.125.142.128|:443... connected.\n",
            "HTTP request sent, awaiting response... 200 OK\n",
            "Length: 347116733 (331M) [text/plain]\n",
            "Saving to: ‘/tmp/glove.6B.100d.txt’\n",
            "\n",
            "/tmp/glove.6B.100d. 100%[===================>] 331.04M   140MB/s    in 2.4s    \n",
            "\n",
            "2020-06-09 11:09:29 (140 MB/s) - ‘/tmp/glove.6B.100d.txt’ saved [347116733/347116733]\n",
            "\n"
          ],
          "name": "stdout"
        }
      ]
    },
    {
      "cell_type": "code",
      "metadata": {
        "colab_type": "code",
        "id": "71NLk_lpFLNt",
        "outputId": "7a36ec10-d770-4f28-9367-9287aad6d9ab",
        "colab": {
          "base_uri": "https://localhost:8080/",
          "height": 35
        }
      },
      "source": [
        "print(len(embeddings_matrix))\n",
        "# Expected Output\n",
        "# 138859"
      ],
      "execution_count": 0,
      "outputs": [
        {
          "output_type": "stream",
          "text": [
            "138768\n"
          ],
          "name": "stdout"
        }
      ]
    },
    {
      "cell_type": "code",
      "metadata": {
        "colab_type": "code",
        "id": "iKKvbuEBOGFz",
        "outputId": "8d5be5b8-72f2-41a6-b7e8-45e9e0be0a68",
        "colab": {
          "base_uri": "https://localhost:8080/",
          "height": 1000
        }
      },
      "source": [
        "model = tf.keras.Sequential([\n",
        "    tf.keras.layers.Embedding(vocab_size+1, embedding_dim, input_length=max_length, weights=[embeddings_matrix], trainable=False),\n",
        "    tf.keras.layers.Dropout(0.2),\n",
        "    tf.keras.layers.Conv1D(64,5,activation='relu'),\n",
        "    tf.keras.layers.MaxPooling1D(pool_size=4),\n",
        "    tf.keras.layers.LSTM(64),\n",
        "    tf.keras.layers.Dense(1,activation='sigmoid')\n",
        "])\n",
        "model.compile(loss='binary_crossentropy',optimizer='adam',metrics=['accuracy'])\n",
        "model.summary()\n",
        "\n",
        "num_epochs = 50\n",
        "history = model.fit(np.array(training_sequences), np.array(training_labels), epochs=num_epochs, validation_data=(np.array(test_sequences),np.array( test_labels)), verbose=2)\n",
        "\n",
        "print(\"Training Complete\")\n"
      ],
      "execution_count": 0,
      "outputs": [
        {
          "output_type": "stream",
          "text": [
            "Model: \"sequential_2\"\n",
            "_________________________________________________________________\n",
            "Layer (type)                 Output Shape              Param #   \n",
            "=================================================================\n",
            "embedding_4 (Embedding)      (None, 16, 100)           13876800  \n",
            "_________________________________________________________________\n",
            "dropout_4 (Dropout)          (None, 16, 100)           0         \n",
            "_________________________________________________________________\n",
            "conv1d_3 (Conv1D)            (None, 12, 64)            32064     \n",
            "_________________________________________________________________\n",
            "max_pooling1d_3 (MaxPooling1 (None, 3, 64)             0         \n",
            "_________________________________________________________________\n",
            "lstm_2 (LSTM)                (None, 64)                33024     \n",
            "_________________________________________________________________\n",
            "dense_2 (Dense)              (None, 1)                 65        \n",
            "=================================================================\n",
            "Total params: 13,941,953\n",
            "Trainable params: 65,153\n",
            "Non-trainable params: 13,876,800\n",
            "_________________________________________________________________\n",
            "Epoch 1/50\n",
            "4500/4500 - 15s - loss: 0.5674 - accuracy: 0.7002 - val_loss: 0.5185 - val_accuracy: 0.7394\n",
            "Epoch 2/50\n",
            "4500/4500 - 15s - loss: 0.5283 - accuracy: 0.7318 - val_loss: 0.5063 - val_accuracy: 0.7502\n",
            "Epoch 3/50\n",
            "4500/4500 - 15s - loss: 0.5111 - accuracy: 0.7441 - val_loss: 0.5084 - val_accuracy: 0.7453\n",
            "Epoch 4/50\n",
            "4500/4500 - 15s - loss: 0.4988 - accuracy: 0.7519 - val_loss: 0.4972 - val_accuracy: 0.7559\n",
            "Epoch 5/50\n",
            "4500/4500 - 15s - loss: 0.4912 - accuracy: 0.7567 - val_loss: 0.5019 - val_accuracy: 0.7566\n",
            "Epoch 6/50\n",
            "4500/4500 - 15s - loss: 0.4850 - accuracy: 0.7603 - val_loss: 0.5003 - val_accuracy: 0.7546\n",
            "Epoch 7/50\n",
            "4500/4500 - 15s - loss: 0.4780 - accuracy: 0.7670 - val_loss: 0.4969 - val_accuracy: 0.7580\n",
            "Epoch 8/50\n",
            "4500/4500 - 14s - loss: 0.4730 - accuracy: 0.7686 - val_loss: 0.4925 - val_accuracy: 0.7591\n",
            "Epoch 9/50\n",
            "4500/4500 - 14s - loss: 0.4686 - accuracy: 0.7723 - val_loss: 0.4938 - val_accuracy: 0.7570\n",
            "Epoch 10/50\n",
            "4500/4500 - 14s - loss: 0.4645 - accuracy: 0.7735 - val_loss: 0.4926 - val_accuracy: 0.7590\n",
            "Epoch 11/50\n",
            "4500/4500 - 15s - loss: 0.4613 - accuracy: 0.7760 - val_loss: 0.4960 - val_accuracy: 0.7591\n",
            "Epoch 12/50\n",
            "4500/4500 - 15s - loss: 0.4579 - accuracy: 0.7784 - val_loss: 0.4993 - val_accuracy: 0.7516\n",
            "Epoch 13/50\n",
            "4500/4500 - 15s - loss: 0.4550 - accuracy: 0.7806 - val_loss: 0.4994 - val_accuracy: 0.7563\n",
            "Epoch 14/50\n",
            "4500/4500 - 14s - loss: 0.4541 - accuracy: 0.7809 - val_loss: 0.5048 - val_accuracy: 0.7564\n",
            "Epoch 15/50\n",
            "4500/4500 - 14s - loss: 0.4505 - accuracy: 0.7823 - val_loss: 0.5065 - val_accuracy: 0.7572\n",
            "Epoch 16/50\n",
            "4500/4500 - 14s - loss: 0.4488 - accuracy: 0.7845 - val_loss: 0.4996 - val_accuracy: 0.7556\n",
            "Epoch 17/50\n",
            "4500/4500 - 15s - loss: 0.4481 - accuracy: 0.7838 - val_loss: 0.4996 - val_accuracy: 0.7585\n",
            "Epoch 18/50\n",
            "4500/4500 - 14s - loss: 0.4447 - accuracy: 0.7859 - val_loss: 0.5009 - val_accuracy: 0.7608\n",
            "Epoch 19/50\n",
            "4500/4500 - 14s - loss: 0.4434 - accuracy: 0.7869 - val_loss: 0.5068 - val_accuracy: 0.7559\n",
            "Epoch 20/50\n",
            "4500/4500 - 14s - loss: 0.4415 - accuracy: 0.7894 - val_loss: 0.5076 - val_accuracy: 0.7558\n",
            "Epoch 21/50\n",
            "4500/4500 - 14s - loss: 0.4410 - accuracy: 0.7890 - val_loss: 0.5011 - val_accuracy: 0.7562\n",
            "Epoch 22/50\n",
            "4500/4500 - 14s - loss: 0.4395 - accuracy: 0.7897 - val_loss: 0.5130 - val_accuracy: 0.7529\n",
            "Epoch 23/50\n",
            "4500/4500 - 15s - loss: 0.4389 - accuracy: 0.7887 - val_loss: 0.5047 - val_accuracy: 0.7559\n",
            "Epoch 24/50\n",
            "4500/4500 - 14s - loss: 0.4378 - accuracy: 0.7901 - val_loss: 0.5042 - val_accuracy: 0.7561\n",
            "Epoch 25/50\n",
            "4500/4500 - 14s - loss: 0.4385 - accuracy: 0.7909 - val_loss: 0.5067 - val_accuracy: 0.7554\n",
            "Epoch 26/50\n",
            "4500/4500 - 14s - loss: 0.4373 - accuracy: 0.7899 - val_loss: 0.5074 - val_accuracy: 0.7526\n",
            "Epoch 27/50\n",
            "4500/4500 - 14s - loss: 0.4352 - accuracy: 0.7922 - val_loss: 0.5052 - val_accuracy: 0.7552\n",
            "Epoch 28/50\n",
            "4500/4500 - 14s - loss: 0.4352 - accuracy: 0.7915 - val_loss: 0.5053 - val_accuracy: 0.7567\n",
            "Epoch 29/50\n",
            "4500/4500 - 14s - loss: 0.4344 - accuracy: 0.7924 - val_loss: 0.5055 - val_accuracy: 0.7542\n",
            "Epoch 30/50\n",
            "4500/4500 - 14s - loss: 0.4357 - accuracy: 0.7918 - val_loss: 0.5083 - val_accuracy: 0.7549\n",
            "Epoch 31/50\n",
            "4500/4500 - 14s - loss: 0.4334 - accuracy: 0.7932 - val_loss: 0.5140 - val_accuracy: 0.7490\n",
            "Epoch 32/50\n",
            "4500/4500 - 15s - loss: 0.4313 - accuracy: 0.7941 - val_loss: 0.5152 - val_accuracy: 0.7531\n",
            "Epoch 33/50\n",
            "4500/4500 - 14s - loss: 0.4319 - accuracy: 0.7943 - val_loss: 0.5150 - val_accuracy: 0.7513\n",
            "Epoch 34/50\n",
            "4500/4500 - 15s - loss: 0.4319 - accuracy: 0.7944 - val_loss: 0.5148 - val_accuracy: 0.7571\n",
            "Epoch 35/50\n",
            "4500/4500 - 14s - loss: 0.4313 - accuracy: 0.7943 - val_loss: 0.5105 - val_accuracy: 0.7539\n",
            "Epoch 36/50\n",
            "4500/4500 - 14s - loss: 0.4302 - accuracy: 0.7955 - val_loss: 0.5121 - val_accuracy: 0.7544\n",
            "Epoch 37/50\n",
            "4500/4500 - 14s - loss: 0.4297 - accuracy: 0.7954 - val_loss: 0.5114 - val_accuracy: 0.7541\n",
            "Epoch 38/50\n",
            "4500/4500 - 14s - loss: 0.4297 - accuracy: 0.7956 - val_loss: 0.5172 - val_accuracy: 0.7526\n",
            "Epoch 39/50\n",
            "4500/4500 - 14s - loss: 0.4291 - accuracy: 0.7962 - val_loss: 0.5119 - val_accuracy: 0.7499\n",
            "Epoch 40/50\n",
            "4500/4500 - 14s - loss: 0.4294 - accuracy: 0.7943 - val_loss: 0.5227 - val_accuracy: 0.7452\n",
            "Epoch 41/50\n",
            "4500/4500 - 14s - loss: 0.4270 - accuracy: 0.7972 - val_loss: 0.5165 - val_accuracy: 0.7540\n",
            "Epoch 42/50\n",
            "4500/4500 - 14s - loss: 0.4285 - accuracy: 0.7958 - val_loss: 0.5170 - val_accuracy: 0.7509\n",
            "Epoch 43/50\n",
            "4500/4500 - 14s - loss: 0.4287 - accuracy: 0.7962 - val_loss: 0.5137 - val_accuracy: 0.7506\n",
            "Epoch 44/50\n",
            "4500/4500 - 14s - loss: 0.4295 - accuracy: 0.7953 - val_loss: 0.5127 - val_accuracy: 0.7513\n",
            "Epoch 45/50\n",
            "4500/4500 - 15s - loss: 0.4275 - accuracy: 0.7971 - val_loss: 0.5166 - val_accuracy: 0.7519\n",
            "Epoch 46/50\n",
            "4500/4500 - 14s - loss: 0.4261 - accuracy: 0.7969 - val_loss: 0.5145 - val_accuracy: 0.7542\n",
            "Epoch 47/50\n",
            "4500/4500 - 14s - loss: 0.4271 - accuracy: 0.7975 - val_loss: 0.5165 - val_accuracy: 0.7501\n",
            "Epoch 48/50\n",
            "4500/4500 - 14s - loss: 0.4267 - accuracy: 0.7962 - val_loss: 0.5142 - val_accuracy: 0.7516\n",
            "Epoch 49/50\n",
            "4500/4500 - 14s - loss: 0.4271 - accuracy: 0.7964 - val_loss: 0.5145 - val_accuracy: 0.7518\n",
            "Epoch 50/50\n",
            "4500/4500 - 14s - loss: 0.4267 - accuracy: 0.7975 - val_loss: 0.5169 - val_accuracy: 0.7525\n",
            "Training Complete\n"
          ],
          "name": "stdout"
        }
      ]
    },
    {
      "cell_type": "code",
      "metadata": {
        "colab_type": "code",
        "id": "qxju4ItJKO8F",
        "outputId": "c066de48-4611-4cad-d0a6-8792ea271c14",
        "colab": {
          "base_uri": "https://localhost:8080/",
          "height": 610
        }
      },
      "source": [
        "import matplotlib.image  as mpimg\n",
        "import matplotlib.pyplot as plt\n",
        "\n",
        "#-----------------------------------------------------------\n",
        "# Retrieve a list of list results on training and test data\n",
        "# sets for each training epoch\n",
        "#-----------------------------------------------------------\n",
        "acc=history.history['accuracy']\n",
        "val_acc=history.history['val_accuracy']\n",
        "loss=history.history['loss']\n",
        "val_loss=history.history['val_loss']\n",
        "\n",
        "epochs=range(len(acc)) # Get number of epochs\n",
        "\n",
        "#------------------------------------------------\n",
        "# Plot training and validation accuracy per epoch\n",
        "#------------------------------------------------\n",
        "plt.plot(epochs, acc, 'r')\n",
        "plt.plot(epochs, val_acc, 'b')\n",
        "plt.title('Training and validation accuracy')\n",
        "plt.xlabel(\"Epochs\")\n",
        "plt.ylabel(\"Accuracy\")\n",
        "plt.legend([\"Accuracy\", \"Validation Accuracy\"])\n",
        "\n",
        "plt.figure()\n",
        "\n",
        "#------------------------------------------------\n",
        "# Plot training and validation loss per epoch\n",
        "#------------------------------------------------\n",
        "plt.plot(epochs, loss, 'r')\n",
        "plt.plot(epochs, val_loss, 'b')\n",
        "plt.title('Training and validation loss')\n",
        "plt.xlabel(\"Epochs\")\n",
        "plt.ylabel(\"Loss\")\n",
        "plt.legend([\"Loss\", \"Validation Loss\"])\n",
        "\n",
        "plt.figure()\n",
        "\n",
        "\n",
        "# Expected Output\n",
        "# A chart where the validation loss does not increase sharply!"
      ],
      "execution_count": 0,
      "outputs": [
        {
          "output_type": "execute_result",
          "data": {
            "text/plain": [
              "<Figure size 432x288 with 0 Axes>"
            ]
          },
          "metadata": {
            "tags": []
          },
          "execution_count": 29
        },
        {
          "output_type": "display_data",
          "data": {
            "image/png": "[encoded data removed]",
            "text/plain": [
              "<Figure size 432x288 with 1 Axes>"
            ]
          },
          "metadata": {
            "tags": [],
            "needs_background": "light"
          }
        },
        {
          "output_type": "display_data",
          "data": {
            "image/png": "[encoded data removed]",
            "text/plain": [
              "<Figure size 432x288 with 1 Axes>"
            ]
          },
          "metadata": {
            "tags": [],
            "needs_background": "light"
          }
        },
        {
          "output_type": "display_data",
          "data": {
            "text/plain": [
              "<Figure size 432x288 with 0 Axes>"
            ]
          },
          "metadata": {
            "tags": []
          }
        }
      ]
    },
    {
      "cell_type": "code",
      "metadata": {
        "id": "DJYmfdxYxIIi",
        "colab_type": "code",
        "colab": {}
      },
      "source": [
        ""
      ],
      "execution_count": 0,
      "outputs": []
    }
  ]
}
