{
  "nbformat": 4,
  "nbformat_minor": 0,
  "metadata": {
    "accelerator": "GPU",
    "colab": {
      "name": "Sentiment TWITTER NLP Course - Week 3 Exercise Question.ipynb",
      "provenance": [],
      "collapsed_sections": []
    },
    "kernelspec": {
      "display_name": "Python 3",
      "name": "python3"
    }
  },
  "cells": [
    {
      "cell_type": "code",
      "metadata": {
        "id": "zX4Kg8DUTKWO",
        "colab_type": "code",
        "colab": {}
      },
      "source": [
        "#@title Licensed under the Apache License, Version 2.0 (the \"License\");\n",
        "# you may not use this file except in compliance with the License.\n",
        "# You may obtain a copy of the License at\n",
        "#\n",
        "# https://www.apache.org/licenses/LICENSE-2.0\n",
        "#\n",
        "# Unless required by applicable law or agreed to in writing, software\n",
        "# distributed under the License is distributed on an \"AS IS\" BASIS,\n",
        "# WITHOUT WARRANTIES OR CONDITIONS OF ANY KIND, either express or implied.\n",
        "# See the License for the specific language governing permissions and\n",
        "# limitations under the License."
      ],
      "execution_count": 0,
      "outputs": []
    },
    {
      "cell_type": "code",
      "metadata": {
        "colab_type": "code",
        "id": "hmA6EzkQJ5jt",
        "colab": {}
      },
      "source": [
        "import json\n",
        "import tensorflow as tf\n",
        "import csv\n",
        "import random\n",
        "import numpy as np\n",
        "\n",
        "from tensorflow.keras.preprocessing.text import Tokenizer\n",
        "from tensorflow.keras.preprocessing.sequence import pad_sequences\n",
        "from tensorflow.keras.utils import to_categorical\n",
        "from tensorflow.keras import regularizers\n",
        "\n",
        "\n",
        "embedding_dim = 100\n",
        "max_length = 16\n",
        "trunc_type='post'\n",
        "padding_type='post'\n",
        "oov_tok = \"<OOV>\"\n",
        "training_size=500000\n",
        "test_portion=.01\n",
        "#val_portion=.01\n",
        "\n",
        "corpus = []\n"
      ],
      "execution_count": 0,
      "outputs": []
    },
    {
      "cell_type": "code",
      "metadata": {
        "colab_type": "code",
        "id": "bM0l_dORKqE0",
        "colab": {}
      },
      "source": [
        "\n",
        "\n",
        "!wget --no-check-certificate \\\n",
        "    https://storage.googleapis.com/laurencemoroney-blog.appspot.com/training_cleaned.csv \\\n",
        "    -O /tmp/training_cleaned.csv\n",
        "\n",
        "num_sentences = 0\n",
        "\n",
        "with open(\"/tmp/training_cleaned.csv\") as csvfile:\n",
        "    reader = csv.reader(csvfile, delimiter=',')\n",
        "    for row in reader:\n",
        "    \n",
        "        list_item=[]\n",
        "        list_item.append(row[5])\n",
        "        index=row[0]\n",
        "        if index=='0':\n",
        "          list_item.append(0)\n",
        "        else:\n",
        "          list_item.append(1)\n",
        "        num_sentences = num_sentences + 1\n",
        "        corpus.append(list_item)\n"
      ],
      "execution_count": 0,
      "outputs": []
    },
    {
      "cell_type": "code",
      "metadata": {
        "colab_type": "code",
        "id": "3kxblBUjEUX-",
        "outputId": "c93fbf0e-0f81-4734-ebce-9602e556af69",
        "colab": {
          "base_uri": "https://localhost:8080/",
          "height": 69
        }
      },
      "source": [
        "print(num_sentences)\n",
        "print(len(corpus))\n",
        "print(corpus[1])"
      ],
      "execution_count": 42,
      "outputs": [
        {
          "output_type": "stream",
          "text": [
            "1600000\n",
            "1600000\n",
            "[\"is upset that he can't update his Facebook by texting it... and might cry as a result  School today also. Blah!\", 0]\n"
          ],
          "name": "stdout"
        }
      ]
    },
    {
      "cell_type": "code",
      "metadata": {
        "colab_type": "code",
        "id": "ohOGz24lsNAD",
        "colab": {}
      },
      "source": [
        "sentences=[]\n",
        "labels=[]\n",
        "random.shuffle(corpus)\n",
        "for x in range(training_size):\n",
        "    sentences.append(corpus[x][0])\n",
        "    labels.append(corpus[x][1])\n",
        "\n",
        "\n",
        "tokenizer = Tokenizer()\n",
        "tokenizer.fit_on_texts(sentences)\n",
        "\n",
        "word_index = tokenizer.word_index\n",
        "vocab_size=len(word_index)\n",
        "\n",
        "sequences = tokenizer.texts_to_sequences(sentences)\n",
        "padded = pad_sequences(sequences,maxlen=max_length,padding=padding_type,truncating=trunc_type)\n",
        "\n",
        "\n",
        "split = int(test_portion * training_size)\n",
        "\n",
        "test_sequences = padded[0:split]\n",
        "training_sequences = padded[split:training_size]\n",
        "test_labels = labels[0:split]\n",
        "training_labels = labels[split:training_size]"
      ],
      "execution_count": 0,
      "outputs": []
    },
    {
      "cell_type": "code",
      "metadata": {
        "colab_type": "code",
        "id": "gIrtRem1En3N",
        "colab": {}
      },
      "source": [
        "print(vocab_size)\n",
        "print(word_index['i'])\n",
        "print(padded[2])\n"
      ],
      "execution_count": 0,
      "outputs": []
    },
    {
      "cell_type": "code",
      "metadata": {
        "colab_type": "code",
        "id": "C1zdgJkusRh0",
        "colab": {}
      },
      "source": [
        "# Note this is the 100 dimension version of GloVe from Stanford\n",
        "\n",
        "!wget --no-check-certificate \\\n",
        "    https://storage.googleapis.com/laurencemoroney-blog.appspot.com/glove.6B.100d.txt \\\n",
        "    -O /tmp/glove.6B.100d.txt\n",
        "embeddings_index = {};\n",
        "with open('/tmp/glove.6B.100d.txt') as f:\n",
        "    for line in f:\n",
        "        values = line.split();\n",
        "        word = values[0];\n",
        "        coefs = np.asarray(values[1:], dtype='float32');\n",
        "        embeddings_index[word] = coefs;\n",
        "\n",
        "embeddings_matrix = np.zeros((vocab_size+1, embedding_dim));\n",
        "for word, i in word_index.items():\n",
        "    embedding_vector = embeddings_index.get(word);\n",
        "    if embedding_vector is not None:\n",
        "        embeddings_matrix[i] = embedding_vector;"
      ],
      "execution_count": 0,
      "outputs": []
    },
    {
      "cell_type": "code",
      "metadata": {
        "colab_type": "code",
        "id": "71NLk_lpFLNt",
        "outputId": "249fbf75-d5cc-446f-9864-478550d5e0a3",
        "colab": {
          "base_uri": "https://localhost:8080/",
          "height": 35
        }
      },
      "source": [
        "print(len(embeddings_matrix))\n"
      ],
      "execution_count": 46,
      "outputs": [
        {
          "output_type": "stream",
          "text": [
            "311563\n"
          ],
          "name": "stdout"
        }
      ]
    },
    {
      "cell_type": "code",
      "metadata": {
        "colab_type": "code",
        "id": "iKKvbuEBOGFz",
        "outputId": "70c981d2-fe7f-4057-dfe1-6cb0d11c0196",
        "colab": {
          "base_uri": "https://localhost:8080/",
          "height": 1000
        }
      },
      "source": [
        "model = tf.keras.Sequential([\n",
        "    tf.keras.layers.Embedding(vocab_size+1, embedding_dim, input_length=max_length, weights=[embeddings_matrix], trainable=False),\n",
        "    tf.keras.layers.Dropout(0.4),\n",
        "    tf.keras.layers.Conv1D(64,5,activation='relu'),\n",
        "    tf.keras.layers.MaxPooling1D(pool_size=4),\n",
        "    tf.keras.layers.LSTM(64),\n",
        "    tf.keras.layers.Dense(1,activation='sigmoid')\n",
        "])\n",
        "model.compile(loss='binary_crossentropy',optimizer='adam',metrics=['accuracy'])\n",
        "model.summary()\n",
        "\n",
        "num_epochs = 50\n",
        "history = model.fit(np.array(training_sequences), np.array(training_labels), epochs=num_epochs, validation_data=(np.array(test_sequences),np.array( test_labels)), verbose=2)\n",
        "\n",
        "print(\"Training Complete\")\n"
      ],
      "execution_count": 47,
      "outputs": [
        {
          "output_type": "stream",
          "text": [
            "Model: \"sequential_3\"\n",
            "_________________________________________________________________\n",
            "Layer (type)                 Output Shape              Param #   \n",
            "=================================================================\n",
            "embedding_3 (Embedding)      (None, 16, 100)           31156300  \n",
            "_________________________________________________________________\n",
            "dropout_3 (Dropout)          (None, 16, 100)           0         \n",
            "_________________________________________________________________\n",
            "conv1d_3 (Conv1D)            (None, 12, 64)            32064     \n",
            "_________________________________________________________________\n",
            "max_pooling1d_3 (MaxPooling1 (None, 3, 64)             0         \n",
            "_________________________________________________________________\n",
            "lstm_3 (LSTM)                (None, 64)                33024     \n",
            "_________________________________________________________________\n",
            "dense_3 (Dense)              (None, 1)                 65        \n",
            "=================================================================\n",
            "Total params: 31,221,453\n",
            "Trainable params: 65,153\n",
            "Non-trainable params: 31,156,300\n",
            "_________________________________________________________________\n",
            "Epoch 1/50\n",
            "15469/15469 - 78s - loss: 0.5624 - accuracy: 0.7034 - val_loss: 0.5102 - val_accuracy: 0.7340\n",
            "Epoch 2/50\n",
            "15469/15469 - 78s - loss: 0.5332 - accuracy: 0.7275 - val_loss: 0.5032 - val_accuracy: 0.7474\n",
            "Epoch 3/50\n",
            "15469/15469 - 80s - loss: 0.5248 - accuracy: 0.7329 - val_loss: 0.4975 - val_accuracy: 0.7522\n",
            "Epoch 4/50\n",
            "15469/15469 - 79s - loss: 0.5204 - accuracy: 0.7361 - val_loss: 0.4959 - val_accuracy: 0.7494\n",
            "Epoch 5/50\n",
            "15469/15469 - 78s - loss: 0.5161 - accuracy: 0.7394 - val_loss: 0.4949 - val_accuracy: 0.7564\n",
            "Epoch 6/50\n",
            "15469/15469 - 78s - loss: 0.5135 - accuracy: 0.7413 - val_loss: 0.4906 - val_accuracy: 0.7592\n",
            "Epoch 7/50\n",
            "15469/15469 - 80s - loss: 0.5123 - accuracy: 0.7418 - val_loss: 0.4939 - val_accuracy: 0.7596\n",
            "Epoch 8/50\n",
            "15469/15469 - 77s - loss: 0.5110 - accuracy: 0.7436 - val_loss: 0.4892 - val_accuracy: 0.7562\n",
            "Epoch 9/50\n",
            "15469/15469 - 76s - loss: 0.5097 - accuracy: 0.7444 - val_loss: 0.4890 - val_accuracy: 0.7592\n",
            "Epoch 10/50\n",
            "15469/15469 - 78s - loss: 0.5087 - accuracy: 0.7449 - val_loss: 0.4905 - val_accuracy: 0.7556\n",
            "Epoch 11/50\n",
            "15469/15469 - 77s - loss: 0.5074 - accuracy: 0.7467 - val_loss: 0.4882 - val_accuracy: 0.7546\n",
            "Epoch 12/50\n",
            "15469/15469 - 78s - loss: 0.5072 - accuracy: 0.7457 - val_loss: 0.4877 - val_accuracy: 0.7602\n",
            "Epoch 13/50\n",
            "15469/15469 - 77s - loss: 0.5062 - accuracy: 0.7469 - val_loss: 0.4902 - val_accuracy: 0.7544\n",
            "Epoch 14/50\n",
            "15469/15469 - 77s - loss: 0.5056 - accuracy: 0.7476 - val_loss: 0.4881 - val_accuracy: 0.7558\n",
            "Epoch 15/50\n",
            "15469/15469 - 76s - loss: 0.5055 - accuracy: 0.7475 - val_loss: 0.4867 - val_accuracy: 0.7590\n",
            "Epoch 16/50\n",
            "15469/15469 - 77s - loss: 0.5048 - accuracy: 0.7476 - val_loss: 0.4856 - val_accuracy: 0.7598\n",
            "Epoch 17/50\n",
            "15469/15469 - 78s - loss: 0.5042 - accuracy: 0.7483 - val_loss: 0.4822 - val_accuracy: 0.7622\n",
            "Epoch 18/50\n",
            "15469/15469 - 76s - loss: 0.5033 - accuracy: 0.7489 - val_loss: 0.4875 - val_accuracy: 0.7578\n",
            "Epoch 19/50\n",
            "15469/15469 - 77s - loss: 0.5038 - accuracy: 0.7484 - val_loss: 0.4852 - val_accuracy: 0.7598\n",
            "Epoch 20/50\n",
            "15469/15469 - 77s - loss: 0.5034 - accuracy: 0.7490 - val_loss: 0.4860 - val_accuracy: 0.7656\n",
            "Epoch 21/50\n",
            "15469/15469 - 75s - loss: 0.5036 - accuracy: 0.7484 - val_loss: 0.4811 - val_accuracy: 0.7644\n",
            "Epoch 22/50\n",
            "15469/15469 - 74s - loss: 0.5026 - accuracy: 0.7492 - val_loss: 0.4849 - val_accuracy: 0.7622\n",
            "Epoch 23/50\n",
            "15469/15469 - 75s - loss: 0.5023 - accuracy: 0.7496 - val_loss: 0.4852 - val_accuracy: 0.7630\n",
            "Epoch 24/50\n",
            "15469/15469 - 74s - loss: 0.5022 - accuracy: 0.7496 - val_loss: 0.4870 - val_accuracy: 0.7636\n",
            "Epoch 25/50\n",
            "15469/15469 - 75s - loss: 0.5013 - accuracy: 0.7499 - val_loss: 0.4842 - val_accuracy: 0.7652\n",
            "Epoch 26/50\n",
            "15469/15469 - 76s - loss: 0.5019 - accuracy: 0.7499 - val_loss: 0.4838 - val_accuracy: 0.7600\n",
            "Epoch 27/50\n",
            "15469/15469 - 77s - loss: 0.5019 - accuracy: 0.7496 - val_loss: 0.4825 - val_accuracy: 0.7644\n",
            "Epoch 28/50\n",
            "15469/15469 - 78s - loss: 0.5012 - accuracy: 0.7504 - val_loss: 0.4806 - val_accuracy: 0.7644\n",
            "Epoch 29/50\n",
            "15469/15469 - 77s - loss: 0.5013 - accuracy: 0.7504 - val_loss: 0.4850 - val_accuracy: 0.7654\n",
            "Epoch 30/50\n",
            "15469/15469 - 79s - loss: 0.5018 - accuracy: 0.7502 - val_loss: 0.4840 - val_accuracy: 0.7640\n",
            "Epoch 31/50\n",
            "15469/15469 - 74s - loss: 0.5022 - accuracy: 0.7495 - val_loss: 0.4825 - val_accuracy: 0.7654\n",
            "Epoch 32/50\n",
            "15469/15469 - 75s - loss: 0.5014 - accuracy: 0.7503 - val_loss: 0.4804 - val_accuracy: 0.7644\n",
            "Epoch 33/50\n",
            "15469/15469 - 73s - loss: 0.5008 - accuracy: 0.7510 - val_loss: 0.4818 - val_accuracy: 0.7680\n",
            "Epoch 34/50\n",
            "15469/15469 - 75s - loss: 0.5010 - accuracy: 0.7502 - val_loss: 0.4836 - val_accuracy: 0.7630\n",
            "Epoch 35/50\n",
            "15469/15469 - 74s - loss: 0.5012 - accuracy: 0.7508 - val_loss: 0.4884 - val_accuracy: 0.7640\n",
            "Epoch 36/50\n",
            "15469/15469 - 75s - loss: 0.5008 - accuracy: 0.7510 - val_loss: 0.4843 - val_accuracy: 0.7594\n",
            "Epoch 37/50\n",
            "15469/15469 - 76s - loss: 0.5001 - accuracy: 0.7510 - val_loss: 0.4847 - val_accuracy: 0.7626\n",
            "Epoch 38/50\n",
            "15469/15469 - 75s - loss: 0.5003 - accuracy: 0.7508 - val_loss: 0.4853 - val_accuracy: 0.7600\n",
            "Epoch 39/50\n",
            "15469/15469 - 74s - loss: 0.5003 - accuracy: 0.7510 - val_loss: 0.4835 - val_accuracy: 0.7664\n",
            "Epoch 40/50\n",
            "15469/15469 - 74s - loss: 0.5003 - accuracy: 0.7508 - val_loss: 0.4840 - val_accuracy: 0.7658\n",
            "Epoch 41/50\n",
            "15469/15469 - 77s - loss: 0.5004 - accuracy: 0.7513 - val_loss: 0.4815 - val_accuracy: 0.7600\n",
            "Epoch 42/50\n",
            "15469/15469 - 76s - loss: 0.5008 - accuracy: 0.7507 - val_loss: 0.4848 - val_accuracy: 0.7614\n",
            "Epoch 43/50\n",
            "15469/15469 - 77s - loss: 0.5001 - accuracy: 0.7522 - val_loss: 0.4825 - val_accuracy: 0.7656\n",
            "Epoch 44/50\n",
            "15469/15469 - 76s - loss: 0.5005 - accuracy: 0.7512 - val_loss: 0.4816 - val_accuracy: 0.7664\n",
            "Epoch 45/50\n",
            "15469/15469 - 77s - loss: 0.5002 - accuracy: 0.7511 - val_loss: 0.4801 - val_accuracy: 0.7656\n",
            "Epoch 46/50\n",
            "15469/15469 - 74s - loss: 0.4997 - accuracy: 0.7520 - val_loss: 0.4821 - val_accuracy: 0.7606\n",
            "Epoch 47/50\n",
            "15469/15469 - 76s - loss: 0.5001 - accuracy: 0.7517 - val_loss: 0.4840 - val_accuracy: 0.7654\n",
            "Epoch 48/50\n",
            "15469/15469 - 74s - loss: 0.5004 - accuracy: 0.7507 - val_loss: 0.4814 - val_accuracy: 0.7640\n",
            "Epoch 49/50\n",
            "15469/15469 - 74s - loss: 0.5002 - accuracy: 0.7516 - val_loss: 0.4812 - val_accuracy: 0.7650\n",
            "Epoch 50/50\n",
            "15469/15469 - 74s - loss: 0.5001 - accuracy: 0.7517 - val_loss: 0.4819 - val_accuracy: 0.7668\n",
            "Training Complete\n"
          ],
          "name": "stdout"
        }
      ]
    },
    {
      "cell_type": "code",
      "metadata": {
        "colab_type": "code",
        "id": "qxju4ItJKO8F",
        "outputId": "a0acc043-a693-4e7c-f8a6-6bbc3ead588e",
        "colab": {
          "base_uri": "https://localhost:8080/",
          "height": 608
        }
      },
      "source": [
        "import matplotlib.image  as mpimg\n",
        "import matplotlib.pyplot as plt\n",
        "\n",
        "#-----------------------------------------------------------\n",
        "# Retrieve a list of list results on training and test data\n",
        "# sets for each training epoch\n",
        "#-----------------------------------------------------------\n",
        "acc=history.history['accuracy']\n",
        "val_acc=history.history['val_accuracy']\n",
        "loss=history.history['loss']\n",
        "val_loss=history.history['val_loss']\n",
        "\n",
        "epochs=range(len(acc)) # Get number of epochs\n",
        "\n",
        "#------------------------------------------------\n",
        "# Plot training and validation accuracy per epoch\n",
        "#------------------------------------------------\n",
        "plt.plot(epochs, acc, 'r')\n",
        "plt.plot(epochs, val_acc, 'b')\n",
        "plt.title('Training and validation accuracy')\n",
        "plt.xlabel(\"Epochs\")\n",
        "plt.ylabel(\"Accuracy\")\n",
        "plt.legend([\"Accuracy\", \"Validation Accuracy\"])\n",
        "\n",
        "plt.figure()\n",
        "\n",
        "#------------------------------------------------\n",
        "# Plot training and validation loss per epoch\n",
        "#------------------------------------------------\n",
        "plt.plot(epochs, loss, 'r')\n",
        "plt.plot(epochs, val_loss, 'b')\n",
        "plt.title('Training and validation loss')\n",
        "plt.xlabel(\"Epochs\")\n",
        "plt.ylabel(\"Loss\")\n",
        "plt.legend([\"Loss\", \"Validation Loss\"])\n",
        "\n",
        "plt.figure()\n",
        "\n",
        "  "
      ],
      "execution_count": 49,
      "outputs": [
        {
          "output_type": "execute_result",
          "data": {
            "text/plain": [
              "<Figure size 432x288 with 0 Axes>"
            ]
          },
          "metadata": {
            "tags": []
          },
          "execution_count": 49
        },
        {
          "output_type": "display_data",
          "data": {
            "image/png": "[encoded data removed]",
            "text/plain": [
              "<Figure size 432x288 with 1 Axes>"
            ]
          },
          "metadata": {
            "tags": [],
            "needs_background": "light"
          }
        },
        {
          "output_type": "display_data",
          "data": {
            "image/png": "[encoded data removed]",
            "text/plain": [
              "<Figure size 432x288 with 1 Axes>"
            ]
          },
          "metadata": {
            "tags": [],
            "needs_background": "light"
          }
        },
        {
          "output_type": "display_data",
          "data": {
            "text/plain": [
              "<Figure size 432x288 with 0 Axes>"
            ]
          },
          "metadata": {
            "tags": []
          }
        }
      ]
    },
    {
      "cell_type": "code",
      "metadata": {
        "id": "DJYmfdxYxIIi",
        "colab_type": "code",
        "colab": {}
      },
      "source": [
        ""
      ],
      "execution_count": 0,
      "outputs": []
    }
  ]
}