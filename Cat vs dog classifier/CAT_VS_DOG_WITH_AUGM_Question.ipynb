{
  "nbformat": 4,
  "nbformat_minor": 0,
  "metadata": {
    "accelerator": "GPU",
    "colab": {
      "name": "CAT VS DOG WITH AUGM - Question.ipynb",
      "provenance": [],
      "collapsed_sections": [],
      "include_colab_link": true
    },
    "kernelspec": {
      "display_name": "Python 3",
      "name": "python3"
    }
  },
  "cells": [
    {
      "cell_type": "markdown",
      "metadata": {
        "id": "view-in-github",
        "colab_type": "text"
      },
      "source": [
        "<a href=\"https://colab.research.google.com/github/Bharat-Runwal/Deep-learning/blob/master/Cat%20vs%20dog%20classifier/CAT_VS_DOG_WITH_AUGM_Question.ipynb\" target=\"_parent\"><img src=\"https://colab.research.google.com/assets/colab-badge.svg\" alt=\"Open In Colab\"/></a>"
      ]
    },
    {
      "cell_type": "code",
      "metadata": {
        "id": "zX4Kg8DUTKWO",
        "colab_type": "code",
        "colab": {}
      },
      "source": [
        "#@title Licensed under the Apache License, Version 2.0 (the \"License\");\n",
        "# you may not use this file except in compliance with the License.\n",
        "# You may obtain a copy of the License at\n",
        "#\n",
        "# https://www.apache.org/licenses/LICENSE-2.0\n",
        "#\n",
        "# Unless required by applicable law or agreed to in writing, software\n",
        "# distributed under the License is distributed on an \"AS IS\" BASIS,\n",
        "# WITHOUT WARRANTIES OR CONDITIONS OF ANY KIND, either express or implied.\n",
        "# See the License for the specific language governing permissions and\n",
        "# limitations under the License."
      ],
      "execution_count": null,
      "outputs": []
    },
    {
      "cell_type": "code",
      "metadata": {
        "colab_type": "code",
        "id": "dn-6c02VmqiN",
        "colab": {}
      },
      "source": [
        "import os\n",
        "import zipfile\n",
        "import random\n",
        "import tensorflow as tf\n",
        "from tensorflow.keras.optimizers import RMSprop\n",
        "from tensorflow.keras.optimizers import Adam\n",
        "from tensorflow.keras.preprocessing.image import ImageDataGenerator\n",
        "from shutil import copyfile"
      ],
      "execution_count": null,
      "outputs": []
    },
    {
      "cell_type": "code",
      "metadata": {
        "colab_type": "code",
        "id": "3sd9dQWa23aj",
        "colab": {
          "base_uri": "https://localhost:8080/",
          "height": 240
        },
        "outputId": "8ca0b95d-0826-4d57-fd42-bf80f5157a83"
      },
      "source": [

        "!wget --no-check-certificate \\\n",
        "    \"https://download.microsoft.com/download/3/E/1/3E1C3F21-ECDB-4869-8368-6DEBA77B919F/kagglecatsanddogs_3367a.zip\" \\\n",
        "    -O \"/tmp/cats-and-dogs.zip\"\n",
        "\n",
        "local_zip = '/tmp/cats-and-dogs.zip'\n",
        "zip_ref = zipfile.ZipFile(local_zip, 'r')\n",
        "zip_ref.extractall('/tmp')\n",
        "zip_ref.close()\n"
      ],
      "execution_count": null,
      "outputs": [
        {
          "output_type": "stream",
          "text": [
            "--2020-06-12 10:12:21--  https://download.microsoft.com/download/3/E/1/3E1C3F21-ECDB-4869-8368-6DEBA77B919F/kagglecatsanddogs_3367a.zip\n",
            "Resolving download.microsoft.com (download.microsoft.com)... 23.76.192.41, 2600:1407:a800:19e::e59, 2600:1407:a800:194::e59\n",
            "Connecting to download.microsoft.com (download.microsoft.com)|23.76.192.41|:443... connected.\n",
            "HTTP request sent, awaiting response... 200 OK\n",
            "Length: 824894548 (787M) [application/octet-stream]\n",
            "Saving to: ‘/tmp/cats-and-dogs.zip’\n",
            "\n",
            "/tmp/cats-and-dogs. 100%[===================>] 786.68M   153MB/s    in 5.2s    \n",
            "\n",
            "2020-06-12 10:12:26 (151 MB/s) - ‘/tmp/cats-and-dogs.zip’ saved [824894548/824894548]\n",
            "\n"
          ],
          "name": "stdout"
        }
      ]
    },
    {
      "cell_type": "code",
      "metadata": {
        "colab_type": "code",
        "id": "gi3yD62a6X3S",
        "colab": {
          "base_uri": "https://localhost:8080/",
          "height": 54
        },
        "outputId": "4036de8e-a8fc-49e7-81e2-25fc5c52776b"
      },
      "source": [
        "print(len(os.listdir('/tmp/PetImages/Cat/')))\n",
        "print(len(os.listdir('/tmp/PetImages/Dog/')))\n",
        "\n",
      ],
      "execution_count": null,
      "outputs": [
        {
          "output_type": "stream",
          "text": [
            "12501\n",
            "12501\n"
          ],
          "name": "stdout"
        }
      ]
    },
    {
      "cell_type": "code",
      "metadata": {
        "colab_type": "code",
        "id": "F-QkLjxpmyK2",
        "colab": {}
      },
      "source": [
        "try:\n",
        "    os.mkdir('/tmp/cats-v-dogs')\n",
        "    os.mkdir('/tmp/cats-v-dogs/training')\n",
        "    os.mkdir('/tmp/cats-v-dogs/testing')\n",
        "    os.mkdir('/tmp/cats-v-dogs/training/cats')\n",
        "    os.mkdir('/tmp/cats-v-dogs/training/dogs')\n",
        "    os.mkdir('/tmp/cats-v-dogs/testing/cats')\n",
        "    os.mkdir('/tmp/cats-v-dogs/testing/dogs')\n",
        "except OSError:\n",
        "    pass"
      ],
      "execution_count": null,
      "outputs": []
    },
    {
      "cell_type": "code",
      "metadata": {
        "colab_type": "code",
        "id": "zvSODo0f9LaU",
        "colab": {
          "base_uri": "https://localhost:8080/",
          "height": 54
        },
        "outputId": "20924641-9359-40cb-99b6-c2e0e756d921"
      },
      "source": [
 
        "def split_data(SOURCE, TRAINING, TESTING, SPLIT_SIZE):\n",
        "  files=[]\n",
        "  for filename in os.listdir(SOURCE):\n",
        "    file=SOURCE+filename\n",
        "    if os.path.getsize(file)>0:\n",
        "      files.append(filename)\n",
        "    else:\n",
        "      print(filename + \"ZERO LENGTH FILE\")\n",
        "\n",
        "  training_len= int (len(files)* SPLIT_SIZE)\n",
        "  shuffle=random.sample(files,len(files))\n",
        "  training_set=shuffle[0:training_len]\n",
        "  testing_set=shuffle[training_len:]\n",
        "\n",
        "  for filename in training_set:\n",
        "    curr=SOURCE+filename\n",
        "    destination=TRAINING+filename\n",
        "    copyfile(curr,destination)\n",
        "\n",
        "  for filename in testing_set:\n",
        "    curr=SOURCE + filename\n",
        "    destination=TESTING +filename\n",
        "    copyfile(curr,destination)\n",

        "\n",
        "\n",
        "CAT_SOURCE_DIR = \"/tmp/PetImages/Cat/\"\n",
        "TRAINING_CATS_DIR = \"/tmp/cats-v-dogs/training/cats/\"\n",
        "TESTING_CATS_DIR = \"/tmp/cats-v-dogs/testing/cats/\"\n",
        "DOG_SOURCE_DIR = \"/tmp/PetImages/Dog/\"\n",
        "TRAINING_DOGS_DIR = \"/tmp/cats-v-dogs/training/dogs/\"\n",
        "TESTING_DOGS_DIR = \"/tmp/cats-v-dogs/testing/dogs/\"\n",
        "\n",
        "split_size = .9\n",
        "split_data(CAT_SOURCE_DIR, TRAINING_CATS_DIR, TESTING_CATS_DIR, split_size)\n",
        "split_data(DOG_SOURCE_DIR, TRAINING_DOGS_DIR, TESTING_DOGS_DIR, split_size)\n",
        "\n",
      ],
      "execution_count": null,
      "outputs": [
        {
          "output_type": "stream",
          "text": [
            "666.jpgZERO LENGTH FILE\n",
            "11702.jpgZERO LENGTH FILE\n"
          ],
          "name": "stdout"
        }
      ]
    },
    {
      "cell_type": "code",
      "metadata": {
        "colab_type": "code",
        "id": "luthalB76ufC",
        "colab": {
          "base_uri": "https://localhost:8080/",
          "height": 91
        },
        "outputId": "b7945989-2c9d-416a-da08-64fee8380a06"
      },
      "source": [
        "print(len(os.listdir('/tmp/cats-v-dogs/training/cats/')))\n",
        "print(len(os.listdir('/tmp/cats-v-dogs/training/dogs/')))\n",
        "print(len(os.listdir('/tmp/cats-v-dogs/testing/cats/')))\n",
        "print(len(os.listdir('/tmp/cats-v-dogs/testing/dogs/')))\n",
        "\n",
      ],
      "execution_count": null,
      "outputs": [
        {
          "output_type": "stream",
          "text": [
            "11250\n",
            "11250\n",
            "1250\n",
            "1250\n"
          ],
          "name": "stdout"
        }
      ]
    },
    {
      "cell_type": "code",
      "metadata": {
        "colab_type": "code",
        "id": "-BQrav4anTmj",
        "colab": {}
      },
      "source": [

        "model = tf.keras.models.Sequential([\n",
        "    tf.keras.layers.Conv2D(32, (3,3), activation='relu', input_shape=(150, 150, 3)),\n",
        "    tf.keras.layers.MaxPooling2D(2, 2),\n",
        "    tf.keras.layers.Conv2D(64, (3,3), activation='relu'),\n",
        "    tf.keras.layers.MaxPooling2D(2,2),\n",
        "    tf.keras.layers.Conv2D(128, (3,3), activation='relu'),\n",
        "    tf.keras.layers.MaxPooling2D(2,2),\n",
        "    tf.keras.layers.Conv2D(128, (3,3), activation='relu'),\n",
        "    tf.keras.layers.MaxPooling2D(2,2),\n",
        "    tf.keras.layers.Flatten(),\n",
        "    tf.keras.layers.Dropout(0.2),\n",
        "    tf.keras.layers.Dense(512, activation='relu'),\n",
        "    tf.keras.layers.Dense(1, activation='sigmoid')\n",
        "])\n",
        "\n",
        "model.compile(optimizer=Adam(lr=0.001), loss='binary_crossentropy', metrics=['accuracy'])"
      ],
      "execution_count": null,
      "outputs": []
    },
    {
      "cell_type": "code",
      "metadata": {
        "colab_type": "code",
        "id": "mlNjoJ5D61N6",
        "colab": {
          "base_uri": "https://localhost:8080/",
          "height": 54
        },
        "outputId": "887d4f53-6710-47f3-d38c-8cd4b7523066"
      },
      "source": [
        "TRAINING_DIR =\"/tmp/cats-v-dogs/training/\"\n",
        "train_datagen = ImageDataGenerator(rescale=1./255,\n",
        "      rotation_range=40,\n",
        "      width_shift_range=0.2,\n",
        "      height_shift_range=0.2,\n",
        "      shear_range=0.2,\n",
        "      zoom_range=0.2,\n",
        "      horizontal_flip=True,\n",
        "      fill_mode='nearest')\n",
        "train_generator = train_datagen.flow_from_directory(TRAINING_DIR,\n",
        "                                                    batch_size=128,\n",
        "                                                    class_mode='binary',\n",
        "                                                    target_size=(150, 150))\n",
        "VALIDATION_DIR = \"/tmp/cats-v-dogs/testing/\"\n",
        "validation_datagen = ImageDataGenerator(rescale=1./255,\n",
        "      rotation_range=40,\n",
        "      width_shift_range=0.2,\n",
        "      height_shift_range=0.2,\n",
        "      shear_range=0.2,\n",
        "      zoom_range=0.2,\n",
        "      horizontal_flip=True,\n",
        "      fill_mode='nearest')\n",
        "validation_generator = validation_datagen.flow_from_directory(VALIDATION_DIR,\n",
        "                                                              batch_size=32,\n",
        "                                                              class_mode='binary',\n",
        "                                                              target_size=(150, 150))\n",
        "\n",
        "\n",
        "\n",
      ],
      "execution_count": null,
      "outputs": [
        {
          "output_type": "stream",
          "text": [
            "Found 22499 images belonging to 2 classes.\n",
            "Found 2499 images belonging to 2 classes.\n"
          ],
          "name": "stdout"
        }
      ]
    },
    {
      "cell_type": "code",
      "metadata": {
        "colab_type": "code",
        "id": "KyS4n53w7DxC",
        "colab": {
          "base_uri": "https://localhost:8080/",
          "height": 1000
        },
        "outputId": "cf2ec5cc-6a35-4222-f85f-9a91b369455a"
      },
      "source": [
        "history = model.fit(train_generator,\n",
        "                    steps_per_epoch=175,\n",
        "                              epochs=30,\n",
        "                              verbose=1,\n",
        "                              validation_data=validation_generator,\n",
        "                              validation_steps=78)\n",
        "\n",

      ],
      "execution_count": null,
      "outputs": [
        {
          "output_type": "stream",
          "text": [
            "Epoch 1/30\n",
            " 84/175 [=============>................] - ETA: 1:37 - loss: 0.7012 - accuracy: 0.5200"
          ],
          "name": "stdout"
        },
        {
          "output_type": "stream",
          "text": [
            "/usr/local/lib/python3.6/dist-packages/PIL/TiffImagePlugin.py:770: UserWarning: Possibly corrupt EXIF data.  Expecting to read 32 bytes but only got 0. Skipping tag 270\n",
            "  \" Skipping tag %s\" % (size, len(data), tag)\n",
            "/usr/local/lib/python3.6/dist-packages/PIL/TiffImagePlugin.py:770: UserWarning: Possibly corrupt EXIF data.  Expecting to read 5 bytes but only got 0. Skipping tag 271\n",
            "  \" Skipping tag %s\" % (size, len(data), tag)\n",
            "/usr/local/lib/python3.6/dist-packages/PIL/TiffImagePlugin.py:770: UserWarning: Possibly corrupt EXIF data.  Expecting to read 8 bytes but only got 0. Skipping tag 272\n",
            "  \" Skipping tag %s\" % (size, len(data), tag)\n",
            "/usr/local/lib/python3.6/dist-packages/PIL/TiffImagePlugin.py:770: UserWarning: Possibly corrupt EXIF data.  Expecting to read 8 bytes but only got 0. Skipping tag 282\n",
            "  \" Skipping tag %s\" % (size, len(data), tag)\n",
            "/usr/local/lib/python3.6/dist-packages/PIL/TiffImagePlugin.py:770: UserWarning: Possibly corrupt EXIF data.  Expecting to read 8 bytes but only got 0. Skipping tag 283\n",
            "  \" Skipping tag %s\" % (size, len(data), tag)\n",
            "/usr/local/lib/python3.6/dist-packages/PIL/TiffImagePlugin.py:770: UserWarning: Possibly corrupt EXIF data.  Expecting to read 20 bytes but only got 0. Skipping tag 306\n",
            "  \" Skipping tag %s\" % (size, len(data), tag)\n",
            "/usr/local/lib/python3.6/dist-packages/PIL/TiffImagePlugin.py:770: UserWarning: Possibly corrupt EXIF data.  Expecting to read 48 bytes but only got 0. Skipping tag 532\n",
            "  \" Skipping tag %s\" % (size, len(data), tag)\n",
            "/usr/local/lib/python3.6/dist-packages/PIL/TiffImagePlugin.py:788: UserWarning: Corrupt EXIF data.  Expecting to read 2 bytes but only got 0. \n",
            "  warnings.warn(str(msg))\n"
          ],
          "name": "stderr"
        },
        {
          "output_type": "stream",
          "text": [
            "175/175 [==============================] - 212s 1s/step - loss: 0.6844 - accuracy: 0.5567 - val_loss: 0.6657 - val_accuracy: 0.5713\n",
            "Epoch 2/30\n",
            "175/175 [==============================] - 222s 1s/step - loss: 0.6334 - accuracy: 0.6348 - val_loss: 0.5891 - val_accuracy: 0.6887\n",
            "Epoch 3/30\n",
            "175/175 [==============================] - 214s 1s/step - loss: 0.5864 - accuracy: 0.6850 - val_loss: 0.5645 - val_accuracy: 0.7035\n",
            "Epoch 4/30\n",
            "175/175 [==============================] - 212s 1s/step - loss: 0.5541 - accuracy: 0.7126 - val_loss: 0.5525 - val_accuracy: 0.7155\n",
            "Epoch 5/30\n",
            "175/175 [==============================] - 223s 1s/step - loss: 0.5221 - accuracy: 0.7409 - val_loss: 0.4929 - val_accuracy: 0.7692\n",
            "Epoch 6/30\n",
            "175/175 [==============================] - 214s 1s/step - loss: 0.4938 - accuracy: 0.7589 - val_loss: 0.4609 - val_accuracy: 0.7752\n",
            "Epoch 7/30\n",
            "175/175 [==============================] - 212s 1s/step - loss: 0.4732 - accuracy: 0.7737 - val_loss: 0.4488 - val_accuracy: 0.7889\n",
            "Epoch 8/30\n",
            "175/175 [==============================] - 219s 1s/step - loss: 0.4342 - accuracy: 0.7992 - val_loss: 0.3947 - val_accuracy: 0.8145\n",
            "Epoch 9/30\n",
            "175/175 [==============================] - 214s 1s/step - loss: 0.4208 - accuracy: 0.8073 - val_loss: 0.4264 - val_accuracy: 0.7993\n",
            "Epoch 10/30\n",
            "175/175 [==============================] - 210s 1s/step - loss: 0.3864 - accuracy: 0.8245 - val_loss: 0.3710 - val_accuracy: 0.8237\n",
            "Epoch 11/30\n",
            "175/175 [==============================] - 218s 1s/step - loss: 0.3626 - accuracy: 0.8351 - val_loss: 0.3581 - val_accuracy: 0.8337\n",
            "Epoch 12/30\n",
            "175/175 [==============================] - 214s 1s/step - loss: 0.3388 - accuracy: 0.8492 - val_loss: 0.3251 - val_accuracy: 0.8514\n",
            "Epoch 13/30\n",
            "175/175 [==============================] - 211s 1s/step - loss: 0.3235 - accuracy: 0.8587 - val_loss: 0.3089 - val_accuracy: 0.8662\n",
            "Epoch 14/30\n",
            "175/175 [==============================] - 222s 1s/step - loss: 0.3123 - accuracy: 0.8625 - val_loss: 0.3029 - val_accuracy: 0.8666\n",
            "Epoch 15/30\n",
            "175/175 [==============================] - 212s 1s/step - loss: 0.2967 - accuracy: 0.8702 - val_loss: 0.2681 - val_accuracy: 0.8894\n",
            "Epoch 16/30\n",
            "175/175 [==============================] - 208s 1s/step - loss: 0.2908 - accuracy: 0.8725 - val_loss: 0.2971 - val_accuracy: 0.8670\n",
            "Epoch 17/30\n",
            "175/175 [==============================] - 217s 1s/step - loss: 0.2845 - accuracy: 0.8768 - val_loss: 0.2808 - val_accuracy: 0.8734\n",
            "Epoch 18/30\n",
            "175/175 [==============================] - 214s 1s/step - loss: 0.2670 - accuracy: 0.8848 - val_loss: 0.2916 - val_accuracy: 0.8670\n",
            "Epoch 19/30\n",
            "175/175 [==============================] - 210s 1s/step - loss: 0.2686 - accuracy: 0.8830 - val_loss: 0.2582 - val_accuracy: 0.8914\n",
            "Epoch 20/30\n",
            "175/175 [==============================] - 216s 1s/step - loss: 0.2478 - accuracy: 0.8945 - val_loss: 0.2510 - val_accuracy: 0.8890\n",
            "Epoch 21/30\n",
            "175/175 [==============================] - 214s 1s/step - loss: 0.2449 - accuracy: 0.8958 - val_loss: 0.2536 - val_accuracy: 0.8874\n",
            "Epoch 22/30\n",
            "175/175 [==============================] - 202s 1s/step - loss: 0.2376 - accuracy: 0.8996 - val_loss: 0.2510 - val_accuracy: 0.8942\n",
            "Epoch 23/30\n",
            "175/175 [==============================] - 210s 1s/step - loss: 0.2392 - accuracy: 0.8975 - val_loss: 0.3010 - val_accuracy: 0.8626\n",
            "Epoch 24/30\n",
            "175/175 [==============================] - 212s 1s/step - loss: 0.2377 - accuracy: 0.8981 - val_loss: 0.2282 - val_accuracy: 0.8978\n",
            "Epoch 25/30\n",
            "175/175 [==============================] - 212s 1s/step - loss: 0.2236 - accuracy: 0.9051 - val_loss: 0.2253 - val_accuracy: 0.9058\n",
            "Epoch 26/30\n",
            "175/175 [==============================] - 211s 1s/step - loss: 0.2247 - accuracy: 0.9038 - val_loss: 0.2225 - val_accuracy: 0.9131\n",
            "Epoch 27/30\n",
            "175/175 [==============================] - 213s 1s/step - loss: 0.2210 - accuracy: 0.9062 - val_loss: 0.2054 - val_accuracy: 0.9071\n",
            "Epoch 28/30\n",
            "175/175 [==============================] - 214s 1s/step - loss: 0.2138 - accuracy: 0.9098 - val_loss: 0.2354 - val_accuracy: 0.8974\n",
            "Epoch 29/30\n",
            "175/175 [==============================] - 214s 1s/step - loss: 0.2105 - accuracy: 0.9114 - val_loss: 0.2134 - val_accuracy: 0.8970\n",
            "Epoch 30/30\n",
            "175/175 [==============================] - 214s 1s/step - loss: 0.2072 - accuracy: 0.9139 - val_loss: 0.2096 - val_accuracy: 0.9026\n"
          ],
          "name": "stdout"
        }
      ]
    },
    {
      "cell_type": "code",
      "metadata": {
        "colab_type": "code",
        "id": "MWZrJN4-65RC",
        "colab": {
          "base_uri": "https://localhost:8080/",
          "height": 563
        },
        "outputId": "18c91aa8-a88c-4d28-911d-8cfee12fbf28"
      },
      "source": [
        "# PLOT LOSS AND ACCURACY\n",
        "%matplotlib inline\n",
        "\n",
        "import matplotlib.image  as mpimg\n",
        "import matplotlib.pyplot as plt\n",
        "\n",

        "acc=history.history['accuracy']\n",
        "val_acc=history.history['val_accuracy']\n",
        "loss=history.history['loss']\n",
        "val_loss=history.history['val_loss']\n",
        "\n",
        "epochs=range(len(acc)) # Get number of epochs\n",
        "\n",

        "plt.plot(epochs, acc, 'r', \"Training Accuracy\")\n",
        "plt.plot(epochs, val_acc, 'b', \"Validation Accuracy\")\n",
        "plt.title('Training and validation accuracy')\n",
        "plt.figure()\n",
        "\n",

        "plt.plot(epochs, loss, 'r', \"Training Loss\")\n",
        "plt.plot(epochs, val_loss, 'b', \"Validation Loss\")\n",
        "\n",
        "\n",
        "plt.title('Training and validation loss')\n",
        "\n",

      ],
      "execution_count": null,
      "outputs": [
        {
          "output_type": "execute_result",
          "data": {
            "text/plain": [
              "Text(0.5, 1.0, 'Training and validation loss')"
            ]
          },
          "metadata": {
            "tags": []
          },
          "execution_count": 15
        },
        {
          "output_type": "display_data",
          "data": {
            "image/png": "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\n",
            "text/plain": [
              "<Figure size 432x288 with 1 Axes>"
            ]
          },
          "metadata": {
            "tags": [],
            "needs_background": "light"
          }
        },
        {
          "output_type": "display_data",
          "data": {
            "image/png": "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\n",
            "text/plain": [
              "<Figure size 432x288 with 1 Axes>"
            ]
          },
          "metadata": {
            "tags": [],
            "needs_background": "light"
          }
        }
      ]
    },
    {
      "cell_type": "code",
      "metadata": {
        "colab_type": "code",
        "id": "LqL6FYUrtXpf",
        "colab": {
          "base_uri": "https://localhost:8080/",
          "height": 54
        },
        "outputId": "a24be7f8-d825-4274-9bd8-a9ea0ed07c0f"
      },
      "source": [
        "# Here's a codeblock just for fun. You should be able to upload an image here \n",
        "# and have it classified without crashing\n",
        "\n",
        "import numpy as np\n",
        "from google.colab import files\n",
        "from keras.preprocessing import image\n",
        "\n",
        "# uploaded = files.upload()\n",
        "\n",
        "# for fn in uploaded.keys():\n",
        " \n",
        "  # predicting images\n",
        "  # path = '/content/' + fn\n",
        "img = image.load_img('/content/1030_conservationdog-1028x579.png', target_size=(150,150,3))\n",
        "x = image.img_to_array(img)\n",
        "x = np.expand_dims(x, axis=0)\n",
        "\n",
        "images = np.vstack([x])\n",
        "classes = model.predict(images, batch_size=10)\n",
        "print(classes[0])\n",
        "if classes[0]>0.5:\n",
        "\n",
        "  print(\" is a dog\")\n",
        "else:\n",
        "\n",
        "  print(\" is a cat\")"
      ],
      "execution_count": null,
      "outputs": [
        {
          "output_type": "stream",
          "text": [
            "[1.]\n",
            " is a dog\n"
          ],
          "name": "stdout"
        }
      ]
    },
    {
      "cell_type": "code",
      "metadata": {
        "id": "59piBFueaQDn",
        "colab_type": "code",
        "colab": {}
      },
      "source": [
        ""
      ],
      "execution_count": null,
      "outputs": []
    }
  ]
}
